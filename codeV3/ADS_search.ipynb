{
 "cells": [
  {
   "cell_type": "code",
   "execution_count": 1,
   "metadata": {
    "colab": {
     "base_uri": "https://localhost:8080/"
    },
    "id": "QvZzQgzfwI5n",
    "outputId": "9f21f6a6-5e92-4db9-c538-1e4cbc47324e"
   },
   "outputs": [],
   "source": [
    "# from google.colab import drive\n",
    "# drive.mount('/content/drive')"
   ]
  },
  {
   "cell_type": "code",
   "execution_count": 2,
   "metadata": {
    "colab": {
     "base_uri": "https://localhost:8080/"
    },
    "id": "Zz61FuSWelHD",
    "outputId": "fb3e71f2-93b5-4133-bcf7-c16ed767900c"
   },
   "outputs": [
    {
     "name": "stderr",
     "output_type": "stream",
     "text": [
      "[nltk_data] Downloading package punkt to\n",
      "[nltk_data]     /Users/sayemkamal/nltk_data...\n",
      "[nltk_data]   Package punkt is already up-to-date!\n",
      "[nltk_data] Downloading package wordnet to\n",
      "[nltk_data]     /Users/sayemkamal/nltk_data...\n",
      "[nltk_data]   Package wordnet is already up-to-date!\n",
      "[nltk_data] Downloading package punkt_tab to\n",
      "[nltk_data]     /Users/sayemkamal/nltk_data...\n",
      "[nltk_data]   Package punkt_tab is already up-to-date!\n"
     ]
    },
    {
     "data": {
      "text/plain": [
       "True"
      ]
     },
     "execution_count": 2,
     "metadata": {},
     "output_type": "execute_result"
    }
   ],
   "source": [
    "import requests\n",
    "from urllib.parse import urlencode, quote_plus\n",
    "import numpy as np\n",
    "import sys\n",
    "from dotenv import find_dotenv, load_dotenv\n",
    "import os\n",
    "import pandas as pd\n",
    "\n",
    "import nltk\n",
    "import ssl\n",
    "\n",
    "try:\n",
    "    _create_unverified_https_context = ssl._create_unverified_context\n",
    "except AttributeError:\n",
    "    pass\n",
    "else:\n",
    "    ssl._create_default_https_context = _create_unverified_https_context\n",
    "nltk.download('punkt')\n",
    "nltk.download('wordnet')\n",
    "nltk.download('punkt_tab')"
   ]
  },
  {
   "cell_type": "markdown",
   "metadata": {
    "id": "butCJ77F2K_K"
   },
   "source": [
    "# **Citing this code**\n",
    "This code is the second version of a Expertise finding tool developed by Volz et al. 2023 (https://ui.adsabs.harvard.edu/abs/2023AAS...24210207V/abstract).<br>\n",
    "It utilizes NASA ADS API to query for articles (refereed or not) in the \"Astronomy\" database (cite ADS).\n",
    "Please, cite \"Helfenbein et al. 2023 (in prep) and refer to the README file in the github."
   ]
  },
  {
   "cell_type": "markdown",
   "metadata": {
    "id": "f8Ktffmlx6Qd"
   },
   "source": [
    "**Directory set up**<br>\n",
    "The file *stopwords.txt* is utilized to create meaningful N-grams. Make sure to provide an accurate path in the following cell.<br> Also, the path will be used by the code in other instances to identify other useful files."
   ]
  },
  {
   "cell_type": "code",
   "execution_count": 3,
   "metadata": {
    "id": "OiBplztjesQ5"
   },
   "outputs": [],
   "source": [
    "path_stop= '/Users/sayemkamal/NASA_Project/ReviewerExtractor/codeV3/'\n",
    "stop_file='stopwords.txt'\n",
    "stop_dir=path_stop+stop_file\n",
    "sys.path.append(path_stop)\n",
    "\n"
   ]
  },
  {
   "cell_type": "code",
   "execution_count": 5,
   "metadata": {},
   "outputs": [],
   "source": [
    "#token = 'Your own token from ADS API page ' #Insert your API token\n",
    "token = 'WIhvOVWrt4ksJRFq7P0fuYToniASsS5Wlp5NC28V' \n"
   ]
  },
  {
   "cell_type": "code",
   "execution_count": 6,
   "metadata": {
    "id": "48rCvxEweuUv"
   },
   "outputs": [],
   "source": [
    "#For the TextAnalysis File, please refer to M. Volze et al. 2023\n",
    "import TextAnalysis as TA\n",
    "import ADSsearcherpkg as AP"
   ]
  },
  {
   "cell_type": "markdown",
   "metadata": {
    "id": "kE8Y7GfdfCh1"
   },
   "source": [
    "# **Example 1: Searching expertises of a single person based on their name**"
   ]
  },
  {
   "cell_type": "markdown",
   "metadata": {
    "id": "jCHVPlVCgiSR"
   },
   "source": [
    "The search will focus on papers published by a specific author in the past 15 years independently of the current affiliation:<br>\n",
    "The format for a single author search is as follows: **\"Last, First\"**<br>\n",
    "In the following example we search for Dr. Joshua Pepper expertise. <br>\n",
    "**Note:** the user can decide to query ONLY refereed paper adding, before the token keyword the following keyword:<br>\n",
    "**refereed=\"property:refereed\"**\n"
   ]
  },
  {
   "cell_type": "code",
   "execution_count": 7,
   "metadata": {
    "id": "oD_utgaigqfi"
   },
   "outputs": [
    {
     "name": "stdout",
     "output_type": "stream",
     "text": [
      "I will search for papers matching the following criteria:\n",
      "author:\"^Cucchiara, Antonino\"\n",
      "\n",
      "I am now querying ADS.\n",
      "\n"
     ]
    }
   ],
   "source": [
    "datf=AP.ads_search(name=\"Cucchiara, Antonino\",\n",
    "               token=token, stop_dir=stop_dir)"
   ]
  },
  {
   "cell_type": "code",
   "execution_count": 8,
   "metadata": {},
   "outputs": [
    {
     "name": "stdout",
     "output_type": "stream",
     "text": [
      "(name=None, institution=None, year=None, refereed='property:notrefereed OR property:refereed', token=None, stop_dir=None, second_auth=False)\n"
     ]
    }
   ],
   "source": [
    "import inspect\n",
    "print(inspect.signature(AP.ads_search))"
   ]
  },
  {
   "cell_type": "code",
   "execution_count": 9,
   "metadata": {},
   "outputs": [
    {
     "name": "stdout",
     "output_type": "stream",
     "text": [
      "139\n"
     ]
    }
   ],
   "source": [
    "# To display the data frame run the following:\n",
    "datf\n",
    "print(len(datf.iloc[0]['Title']))\n",
    "# To save it in a excel format run the following:\n",
    "#datf.to_csv(path_stop+\"output.csv\")"
   ]
  },
  {
   "cell_type": "markdown",
   "metadata": {},
   "source": [
    "# Testing Second Author"
   ]
  },
  {
   "cell_type": "code",
   "execution_count": 10,
   "metadata": {},
   "outputs": [
    {
     "name": "stdout",
     "output_type": "stream",
     "text": [
      "I will search for papers matching the following criteria:\n",
      "author:\"Cucchiara, Antonino\",2\n",
      "\n",
      "I am now querying ADS.\n",
      "\n"
     ]
    }
   ],
   "source": [
    "datf2=AP.ads_search(name=\"Cucchiara, Antonino\",\n",
    "               token=token, stop_dir=stop_dir, second_auth=True)"
   ]
  },
  {
   "cell_type": "code",
   "execution_count": 11,
   "metadata": {},
   "outputs": [
    {
     "data": {
      "text/plain": [
       "127"
      ]
     },
     "execution_count": 11,
     "metadata": {},
     "output_type": "execute_result"
    }
   ],
   "source": [
    "(len(datf2.iloc[0]['Title']))"
   ]
  },
  {
   "cell_type": "markdown",
   "metadata": {
    "id": "NhYJiM-TgHnk"
   },
   "source": [
    "# **Example 2: Searching expertises of ALL scientists that published as first authors when affiliated to single institution name**"
   ]
  },
  {
   "cell_type": "markdown",
   "metadata": {
    "id": "BzEADBytfPR_"
   },
   "source": [
    "The search will focus on papers and all authors that have published in the past 15 years at a specific institution (academic or otherwise): <br>\n",
    "The format for a single institution is as follows: **institution=\"Institution Name\"**. <br>\n",
    "**Caveat**: It is possible that the institutions as input by the user does not match what has been cataloged in ADS, therefore if the final output is empty, make sure to try different versions of the institution names (e.g. Cal Poly Pomona, Cal Poly, California Polytechnic State University) to get the most complete list of authors."
   ]
  },
  {
   "cell_type": "code",
   "execution_count": null,
   "metadata": {
    "colab": {
     "base_uri": "https://localhost:8080/"
    },
    "id": "5-CCxIkmfJfy",
    "outputId": "79dcf782-4cc1-47af-a68a-5c8d1220ba4c"
   },
   "outputs": [],
   "source": [
    "datf=AP.ads_search(institution=\"Hampton University\",refereed=\"property:refereed\",\n",
    "               token=token, stop_dir=stop_dir)"
   ]
  },
  {
   "cell_type": "code",
   "execution_count": null,
   "metadata": {
    "id": "doN5GM4zfVX4"
   },
   "outputs": [],
   "source": [
    "# To display the data frame run the following:\n",
    "datf\n",
    "# To save it in a excel format run the following:\n",
    "#datf.to_csv(path_stop+\"output.csv\")"
   ]
  },
  {
   "cell_type": "markdown",
   "metadata": {
    "id": "9ve-8jI7gJV1"
   },
   "source": [
    "# **Example 3: Searching a single author publication while affiliated to a specific institution**"
   ]
  },
  {
   "cell_type": "markdown",
   "metadata": {
    "id": "88tt1j3bmZq1"
   },
   "source": [
    "The search will focus on papers published by a single author while they are affiliated to a specific institution, in the past 15 years:<br>\n",
    "\n",
    "The format for a single author and institution is as follows: **name= 'Last, First', institution= 'Institution Name'**."
   ]
  },
  {
   "cell_type": "code",
   "execution_count": null,
   "metadata": {
    "id": "H32FoRgemk2v",
    "scrolled": true
   },
   "outputs": [],
   "source": [
    "datf=AP.ads_search(name= 'Capper, Daniel', institution=\"University of Southern Mississippi\",\n",
    "               token=token, stop_dir=stop_dir)"
   ]
  },
  {
   "cell_type": "code",
   "execution_count": null,
   "metadata": {
    "id": "O9WpQ5fnwG5x"
   },
   "outputs": [],
   "source": [
    "# To display the data frame run the following:\n",
    "datf\n",
    "# To save it in a excel format run the following:\n",
    "#datf.to_csv(path_stop+\"output.csv\")"
   ]
  },
  {
   "cell_type": "markdown",
   "metadata": {
    "id": "i75m9bR9gJdB"
   },
   "source": [
    "# **Example 4: Searching a single author name within a different time-frame**"
   ]
  },
  {
   "cell_type": "markdown",
   "metadata": {
    "id": "BV3IJ1ODwG5y"
   },
   "source": [
    "The search will focus on papers from one single author that were published in a different time-frame. There are two options for doing so:\n",
    "   - A single year (e.g. 2010): in this case the code will query ADS for articles published by the specified authors between one year prior to 4  years after. So searching year='2010' will search articles between 2009 and 2014<br>\n",
    "   - A year range: in this case the syntax is year='[YEAR TO YEAR]' (e.g. year='[2009 TO 2023]') <br>\n",
    "\n",
    "The format for a single author name remains the same as before: **name= 'Last, First'**. <br>\n",
    "\n",
    "Here are two examples:\n",
    "- Searching for Dr. Pepper's articles between year 1999 and 2004\n",
    "- Searching for Dr. Pepper's articles between year 2019 and 2023"
   ]
  },
  {
   "cell_type": "code",
   "execution_count": null,
   "metadata": {
    "id": "wYW3Ng5Emlck"
   },
   "outputs": [],
   "source": [
    "datf=AP.ads_search(name= 'Pepper, Joshua', year='2000',\n",
    "               token=token, stop_dir=stop_dir)"
   ]
  },
  {
   "cell_type": "code",
   "execution_count": null,
   "metadata": {
    "id": "2ZrvBFHgwG5y"
   },
   "outputs": [],
   "source": [
    "# To display the data frame run the following:\n",
    "datf\n",
    "# To save it in a excel format run the following:\n",
    "#datf.to_csv(path_stop+\"output.csv\")"
   ]
  },
  {
   "cell_type": "code",
   "execution_count": null,
   "metadata": {
    "id": "3nqcQ42XwG5y"
   },
   "outputs": [],
   "source": [
    "datf=AP.ads_search(name= 'Pepper, Joshua', year='[2019 TO 2023]',\n",
    "               token=token, stop_dir=stop_dir)"
   ]
  },
  {
   "cell_type": "code",
   "execution_count": null,
   "metadata": {
    "id": "XciTTpIn7LQX"
   },
   "outputs": [],
   "source": [
    "# To display the data frame run the following:\n",
    "datf\n",
    "# To save it in a excel format run the following:\n",
    "#datf.to_csv(path_stop+\"output.csv\")"
   ]
  },
  {
   "cell_type": "markdown",
   "metadata": {
    "id": "MLYqtHbfgJhE"
   },
   "source": [
    "# **Example 5: Searching a single institution name within a specific time-frame**"
   ]
  },
  {
   "cell_type": "markdown",
   "metadata": {
    "id": "EO3mJmxzwG5y"
   },
   "source": [
    "The search will focus on authors that publishes as first authors affiliated to a specific institution in a defined timespan. <br>\n",
    "The format for a author name is the same in previous example (**\"Last name, First name\"**) and specified year range is similar to the option provided earlier:<br>\n",
    "   - A single year (e.g. 2010): in this case the code will query ADS for articles published by the specified authors between one year prior to 4  years after. So searching year='2010' will search articles between 2009 and 2014<br>\n",
    "   - A year range: in this case the syntax is year='[YEAR TO YEAR]' (e.g. year='[2009 TO 2023]') <br>\n",
    "\n",
    "Following we present two examples:"
   ]
  },
  {
   "cell_type": "code",
   "execution_count": null,
   "metadata": {
    "id": "Je_jZyFpml8r"
   },
   "outputs": [],
   "source": [
    "datf=AP.ads_search(institution=\"University of Southern Mississippi\",year='2000',\n",
    "               token=token, stop_dir=stop_dir)"
   ]
  },
  {
   "cell_type": "code",
   "execution_count": null,
   "metadata": {
    "id": "dhLKT3-jcCSz"
   },
   "outputs": [],
   "source": [
    "# To display the data frame run the following:\n",
    "datf\n",
    "# To save it in a excel format run the following:\n",
    "#datf.to_csv(path_stop+\"output.csv\")"
   ]
  },
  {
   "cell_type": "markdown",
   "metadata": {
    "id": "93GCVzbigJmG"
   },
   "source": [
    "# **Example 6: Searching a single Author, at a specific institution and within a specific time-frame**"
   ]
  },
  {
   "cell_type": "markdown",
   "metadata": {
    "id": "M2ZfN11BwG5z"
   },
   "source": [
    "The following example combines several of the previous ones in a single search.\n",
    "Specifically:<br>\n",
    "   - A single author<br>\n",
    "   - Affiliated to a single institutions<br>\n",
    "   - In a specific time frame of publications<br>\n",
    "    \n",
    "Please, refer to the previous examples for the sintax required. <br>\n",
    "Here are an example"
   ]
  },
  {
   "cell_type": "code",
   "execution_count": null,
   "metadata": {
    "id": "YjkE8YGqmmcy"
   },
   "outputs": [],
   "source": [
    "datf=AP.ads_search(name= 'Brown, Beth A.', institution=\"Howard university\",year='[2009 TO 2022]',\n",
    "               token=token, stop_dir=stop_dir)"
   ]
  },
  {
   "cell_type": "code",
   "execution_count": null,
   "metadata": {
    "id": "2QK1TJgTwG5z"
   },
   "outputs": [],
   "source": [
    "# To display the data frame run the following:\n",
    "datf\n",
    "# To save it in a excel format run the following:\n",
    "#datf.to_csv(path_stop+\"output.csv\")"
   ]
  },
  {
   "cell_type": "markdown",
   "metadata": {
    "id": "-0iJa3idgJqC"
   },
   "source": [
    "# **Example 7: Searching through a list of institutions**"
   ]
  },
  {
   "cell_type": "markdown",
   "metadata": {
    "id": "qGCvvFuewG50"
   },
   "source": [
    "The search will focus on papers from a list of institutions, so the input is a csv file that has multiple institution names stored in it. This will then find all papers from those institutions (**see CAVEATS in Example 2 above related to Institution Names)**:<br>\n",
    "\n",
    "The input file has to be a .csv file (e.g.\"top10inst.csv\"), and must contain at least one column titled  **\"Current Institution\"** or **\"Institution\"** (the first cell of the column is usually interpreted as such). The file can contains other columns, they will be ignored.<br>\n",
    "If the file is in a different directory than the one where the code it, include the whole path. <br>\n",
    "\n",
    "The code will run as in Example 2 above for each institutions and append the results at each iteration providing a final dataframe with all the researchers at all the institutions in the list provided.<br>\n",
    "**NOTE: at the moment if an institution query returns an empty dataframe the code will ignore it and continue to the following one.**\n"
   ]
  },
  {
   "cell_type": "code",
   "execution_count": null,
   "metadata": {
    "colab": {
     "base_uri": "https://localhost:8080/"
    },
    "id": "Wen24dqrwG50",
    "outputId": "673f5f77-23ba-481f-f04f-358e97928fe9"
   },
   "outputs": [],
   "source": [
    "datf=AP.run_file_search(filename='Fellows_Example.csv',\n",
    "               token=token, stop_dir=stop_dir)\n"
   ]
  },
  {
   "cell_type": "code",
   "execution_count": null,
   "metadata": {
    "colab": {
     "base_uri": "https://localhost:8080/",
     "height": 1000
    },
    "id": "kHud_2hPwG50",
    "outputId": "638370e3-dd06-49a3-ce23-c18330d75bd5"
   },
   "outputs": [],
   "source": [
    "# To display the data frame run the following:\n",
    "datf\n",
    "# To save it in a excel format run the following:\n",
    "#datf.to_csv(path_stop+\"output.csv\")"
   ]
  },
  {
   "cell_type": "markdown",
   "metadata": {
    "id": "PC0t44PjnokI"
   },
   "source": [
    "# **Example 8: Searching through a list of Authors names**"
   ]
  },
  {
   "cell_type": "markdown",
   "metadata": {
    "id": "oIWT9esWwG55"
   },
   "source": [
    "The search will focus on papers from a list of authors names (similar format as Example 1 above, **'Last, First'**). <br>\n",
    "The input is a .csv file that has multiple authors names stored in it under a column Title: **\"Name\"**. <br>\n",
    "The ADS search will focus on the period 2003 to 2023.\n",
    "<br>\n",
    "If the file is in a different directory than the one where the code it, include the whole path. <br>\n",
    "\n",
    "The code will then execute the search one name after the other and uppend each result to the previous one.<br>\n",
    "In the following example we use, for convenience, the same example file as before which also contain a list of researchers names.\n"
   ]
  },
  {
   "cell_type": "code",
   "execution_count": null,
   "metadata": {
    "colab": {
     "base_uri": "https://localhost:8080/"
    },
    "id": "wAe9-O_YwG55",
    "outputId": "35c435f2-b521-4950-db6c-ec13fe46fb7e"
   },
   "outputs": [],
   "source": [
    "datf=AP.run_file_search(filename='Fellows_Example.csv',\n",
    "               token=token, stop_dir=stop_dir)\n"
   ]
  },
  {
   "cell_type": "code",
   "execution_count": null,
   "metadata": {
    "colab": {
     "base_uri": "https://localhost:8080/",
     "height": 493
    },
    "id": "00bBkTr1wG55",
    "outputId": "30f0d258-b5f9-4d85-8a23-8df733c7a454"
   },
   "outputs": [],
   "source": [
    "# To display the data frame run the following:\n",
    "datf\n",
    "# To save it in a excel format run the following:\n",
    "#datf.to_csv(path_stop+\"output.csv\")"
   ]
  },
  {
   "cell_type": "markdown",
   "metadata": {},
   "source": [
    "# Example 9: Searching a list of Authors at Institutionsd during specific times"
   ]
  },
  {
   "cell_type": "code",
   "execution_count": null,
   "metadata": {
    "id": "e9kC4myBBGM0"
   },
   "outputs": [],
   "source": [
    "datf=AP.run_file_search(filename='Fellows_Example.csv',\n",
    "               token=token, stop_dir=stop_dir)"
   ]
  },
  {
   "cell_type": "code",
   "execution_count": null,
   "metadata": {
    "id": "d8D4hVQDBN-u"
   },
   "outputs": [],
   "source": [
    "# To display the data frame run the following:\n",
    "datf\n",
    "# To save it in a excel format run the following:\n",
    "#datf.to_csv(path_stop+\"output.csv\")"
   ]
  }
 ],
 "metadata": {
  "colab": {
   "provenance": []
  },
  "kernelspec": {
   "display_name": "Python 3 (ipykernel)",
   "language": "python",
   "name": "python3"
  },
  "language_info": {
   "codemirror_mode": {
    "name": "ipython",
    "version": 3
   },
   "file_extension": ".py",
   "mimetype": "text/x-python",
   "name": "python",
   "nbconvert_exporter": "python",
   "pygments_lexer": "ipython3",
   "version": "3.12.1"
  }
 },
 "nbformat": 4,
 "nbformat_minor": 1
}
